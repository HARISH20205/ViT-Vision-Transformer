{
 "cells": [
  {
   "cell_type": "code",
   "execution_count": 10,
   "id": "cdeffb74",
   "metadata": {},
   "outputs": [],
   "source": [
    "import torch\n",
    "from torch import nn\n",
    "from torchvision import datasets,transforms,models\n",
    "\n",
    "import matplotlib.pyplot as plt\n",
    "from pathlib import Path\n",
    "from helper_functions import download_data\n",
    "from engine import train\n",
    "from data_setup import create_dataloaders\n",
    "from utils import save_model\n",
    "import pandas as pd\n",
    "from timeit import default_timer as timer"
   ]
  },
  {
   "cell_type": "code",
   "execution_count": 4,
   "id": "28e52f75",
   "metadata": {},
   "outputs": [
    {
     "data": {
      "text/plain": [
       "'cuda'"
      ]
     },
     "execution_count": 4,
     "metadata": {},
     "output_type": "execute_result"
    }
   ],
   "source": [
    "device = \"cuda\" if torch.cuda.is_available() else \"cpu\"\n",
    "device"
   ]
  },
  {
   "cell_type": "code",
   "execution_count": 9,
   "id": "cd1d07ab",
   "metadata": {},
   "outputs": [],
   "source": [
    "effnetb2_file_path = Path(\"models/effnetb2_pizza_steak_sushi.pt\")\n",
    "effnetb2 = models.efficientnet_b2(weights=None)  \n",
    "\n",
    "for param in effnetb2.parameters():\n",
    "    param.requires_grad = False\n",
    "effnetb2.classifier = nn.Sequential(\n",
    "    nn.Dropout(p=0.3),\n",
    "    nn.Linear(in_features=1408,out_features=3)\n",
    ")\n",
    "effnetb2.load_state_dict(torch.load(f=effnetb2_file_path))\n",
    "effnetb2.to(device=device)\n",
    "effnetb2_transforms = models.EfficientNet_B2_Weights.DEFAULT.transforms"
   ]
  },
  {
   "cell_type": "code",
   "execution_count": 11,
   "id": "9d385e4a",
   "metadata": {},
   "outputs": [],
   "source": [
    "data_path = Path(\"data/pizza_steak_sushi_20_percent/\")\n",
    "train_dir = data_path / \"train\"\n",
    "test_dir = data_path / \"test\""
   ]
  },
  {
   "cell_type": "code",
   "execution_count": 12,
   "id": "fa3cfb05",
   "metadata": {},
   "outputs": [],
   "source": [
    "train_dataloader_effnetb2,test_dataloader_effnetb2,class_names = create_dataloaders(\n",
    "    train_dir=train_dir,\n",
    "    test_dir=test_dir,\n",
    "    transform=effnetb2_transforms,\n",
    "    batch_size=32\n",
    ")"
   ]
  },
  {
   "cell_type": "code",
   "execution_count": null,
   "id": "095567e9",
   "metadata": {},
   "outputs": [
    {
     "data": {
      "text/plain": [
       "['pizza', 'steak', 'sushi']"
      ]
     },
     "execution_count": 13,
     "metadata": {},
     "output_type": "execute_result"
    },
    {
     "ename": "",
     "evalue": "",
     "output_type": "error",
     "traceback": [
      "\u001b[1;31mThe Kernel crashed while executing code in the current cell or a previous cell. \n",
      "\u001b[1;31mPlease review the code in the cell(s) to identify a possible cause of the failure. \n",
      "\u001b[1;31mClick <a href='https://aka.ms/vscodeJupyterKernelCrash'>here</a> for more info. \n",
      "\u001b[1;31mView Jupyter <a href='command:jupyter.viewOutput'>log</a> for further details."
     ]
    }
   ],
   "source": [
    "class_names"
   ]
  },
  {
   "cell_type": "code",
   "execution_count": null,
   "id": "fa571cb8",
   "metadata": {},
   "outputs": [],
   "source": [
    "def predict(img,model):\n",
    "    start_time = timer()\n",
    "    \n",
    "    img = effnetb2_transforms(img).unsqueeze(0)\n",
    "    \n",
    "    model.eval()\n",
    "    with torch.inference_mode():\n",
    "        pred_probs = torch.softmax(model(img), dim=1)\n",
    "    \n",
    "    pred_labels_and_probs = {class_names[i]: float(pred_probs[0][i]) for i in range(len(class_names))}\n",
    "    \n",
    "    pred_time = round(timer() - start_time, 5)\n",
    "    \n",
    "    return pred_labels_and_probs, pred_time"
   ]
  }
 ],
 "metadata": {
  "kernelspec": {
   "display_name": "Python 3",
   "language": "python",
   "name": "python3"
  },
  "language_info": {
   "codemirror_mode": {
    "name": "ipython",
    "version": 3
   },
   "file_extension": ".py",
   "mimetype": "text/x-python",
   "name": "python",
   "nbconvert_exporter": "python",
   "pygments_lexer": "ipython3",
   "version": "3.10.12"
  }
 },
 "nbformat": 4,
 "nbformat_minor": 5
}
